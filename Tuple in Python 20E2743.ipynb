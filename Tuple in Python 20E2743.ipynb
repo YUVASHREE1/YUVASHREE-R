{
 "cells": [
  {
   "cell_type": "code",
   "execution_count": 1,
   "id": "015be265",
   "metadata": {},
   "outputs": [
    {
     "name": "stdout",
     "output_type": "stream",
     "text": [
      "('apple', 'banana', 'cherry')\n"
     ]
    }
   ],
   "source": [
    "#Tuple\n",
    "a = (\"apple\", \"banana\", \"cherry\")\n",
    "print(a)\n"
   ]
  },
  {
   "cell_type": "code",
   "execution_count": 2,
   "id": "a8c38701",
   "metadata": {},
   "outputs": [
    {
     "name": "stdout",
     "output_type": "stream",
     "text": [
      "('apple', 'banana', 'cherry', 'apple', 'cherry')\n"
     ]
    }
   ],
   "source": [
    "#Allow Duplicates\n",
    "t = (\"apple\", \"banana\", \"cherry\", \"apple\", \"cherry\")\n",
    "print(t)"
   ]
  },
  {
   "cell_type": "code",
   "execution_count": 3,
   "id": "aa0a595e",
   "metadata": {},
   "outputs": [
    {
     "name": "stdout",
     "output_type": "stream",
     "text": [
      "3\n"
     ]
    }
   ],
   "source": [
    "#Tuple Length\n",
    "c = (\"apple\", \"banana\", \"cherry\")\n",
    "print(len(c))"
   ]
  },
  {
   "cell_type": "code",
   "execution_count": 7,
   "id": "887ffff7",
   "metadata": {},
   "outputs": [
    {
     "name": "stdout",
     "output_type": "stream",
     "text": [
      "<class 'tuple'>\n"
     ]
    }
   ],
   "source": [
    "#Create Tuple With One Item\n",
    "a = (\"apple\",)\n",
    "print(type(a))"
   ]
  },
  {
   "cell_type": "code",
   "execution_count": 6,
   "id": "8cbdc9c0",
   "metadata": {},
   "outputs": [
    {
     "name": "stdout",
     "output_type": "stream",
     "text": [
      "<class 'str'>\n"
     ]
    }
   ],
   "source": [
    "a = (\"apple\")\n",
    "print(type(a))"
   ]
  },
  {
   "cell_type": "code",
   "execution_count": 8,
   "id": "118e457b",
   "metadata": {},
   "outputs": [
    {
     "name": "stdout",
     "output_type": "stream",
     "text": [
      "<class 'tuple'>\n"
     ]
    }
   ],
   "source": [
    "#type()\n",
    "mytuple = (\"apple\", \"banana\", \"cherry\")\n",
    "print(type(mytuple))\n"
   ]
  },
  {
   "cell_type": "code",
   "execution_count": 9,
   "id": "8fd52a4d",
   "metadata": {},
   "outputs": [
    {
     "name": "stdout",
     "output_type": "stream",
     "text": [
      "('apple', 'banana', 'cherry')\n"
     ]
    }
   ],
   "source": [
    "#The tuple() Constructor\n",
    "tuple1 = tuple((\"apple\", \"banana\", \"cherry\")) # note the double round-brackets\n",
    "print(tuple1)"
   ]
  },
  {
   "cell_type": "code",
   "execution_count": 10,
   "id": "915198d8",
   "metadata": {},
   "outputs": [
    {
     "name": "stdout",
     "output_type": "stream",
     "text": [
      "banana\n"
     ]
    }
   ],
   "source": [
    "#Access Tuple Items\n",
    "W = (\"apple\", \"banana\", \"cherry\")\n",
    "print(W[1])"
   ]
  },
  {
   "cell_type": "code",
   "execution_count": 11,
   "id": "a456723b",
   "metadata": {},
   "outputs": [
    {
     "name": "stdout",
     "output_type": "stream",
     "text": [
      "cherry\n"
     ]
    }
   ],
   "source": [
    "#Negative Indexing\n",
    "A = (\"apple\", \"banana\", \"cherry\")\n",
    "print(A[-1])"
   ]
  },
  {
   "cell_type": "code",
   "execution_count": 12,
   "id": "83acb62e",
   "metadata": {},
   "outputs": [
    {
     "name": "stdout",
     "output_type": "stream",
     "text": [
      "('cherry', 'orange', 'kiwi')\n"
     ]
    }
   ],
   "source": [
    "#Range of Indexes\n",
    "t = (\"apple\", \"banana\", \"cherry\", \"orange\", \"kiwi\", \"melon\", \"mango\")\n",
    "print(t[2:5])"
   ]
  },
  {
   "cell_type": "code",
   "execution_count": null,
   "id": "412dcf98",
   "metadata": {},
   "outputs": [],
   "source": []
  }
 ],
 "metadata": {
  "kernelspec": {
   "display_name": "Python 3 (ipykernel)",
   "language": "python",
   "name": "python3"
  },
  "language_info": {
   "codemirror_mode": {
    "name": "ipython",
    "version": 3
   },
   "file_extension": ".py",
   "mimetype": "text/x-python",
   "name": "python",
   "nbconvert_exporter": "python",
   "pygments_lexer": "ipython3",
   "version": "3.9.13"
  }
 },
 "nbformat": 4,
 "nbformat_minor": 5
}
