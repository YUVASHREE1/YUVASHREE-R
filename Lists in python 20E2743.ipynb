{
 "cells": [
  {
   "cell_type": "code",
   "execution_count": 1,
   "id": "3fa4bb5a",
   "metadata": {},
   "outputs": [],
   "source": [
    "# creating list\n",
    "a=[]\n",
    "b=[1,2,3,4,5,6]\n",
    "c=[\"Apple\",\"Orange\",\"Banana\",\"Kiwi\",\"Mango\"]\n"
   ]
  },
  {
   "cell_type": "code",
   "execution_count": 2,
   "id": "46e766ff",
   "metadata": {},
   "outputs": [
    {
     "name": "stdout",
     "output_type": "stream",
     "text": [
      "[1, 2, 3, 4, 5, 6, 'Apple', 'Orange', 'Banana', 'Kiwi', 'Mango']\n"
     ]
    }
   ],
   "source": [
    "#Add 2 lists\n",
    "# Append\n",
    "d=b+c\n",
    "print(d) \n"
   ]
  },
  {
   "cell_type": "code",
   "execution_count": 3,
   "id": "e142ebd8",
   "metadata": {},
   "outputs": [
    {
     "name": "stdout",
     "output_type": "stream",
     "text": [
      "0\n"
     ]
    }
   ],
   "source": [
    "# Append(for and in)\n",
    "sum=0\n",
    "for num in a:\n",
    " sum=sum+a\n",
    "print(sum) "
   ]
  },
  {
   "cell_type": "code",
   "execution_count": 19,
   "id": "3a8d7da1",
   "metadata": {},
   "outputs": [
    {
     "name": "stdout",
     "output_type": "stream",
     "text": [
      "[3, 5, 7, 9, 11, 13]\n"
     ]
    }
   ],
   "source": [
    "#Add items into the list\n",
    "#Appending(range)\n",
    "s=[]\n",
    "for i in range(3,15,2):\n",
    " s.append(i)\n",
    "print(s)"
   ]
  },
  {
   "cell_type": "code",
   "execution_count": 20,
   "id": "9c04b133",
   "metadata": {},
   "outputs": [
    {
     "name": "stdout",
     "output_type": "stream",
     "text": [
      "['a', 'b', 'c', 'G']\n"
     ]
    }
   ],
   "source": [
    "#Appending\n",
    "p=[\"a\",\"b\",\"c\"]\n",
    "p.append(\"G\")\n",
    "print(p)"
   ]
  },
  {
   "cell_type": "code",
   "execution_count": 22,
   "id": "a2428fe1",
   "metadata": {},
   "outputs": [
    {
     "name": "stdout",
     "output_type": "stream",
     "text": [
      "[12, 1, 45, 78, 88]\n",
      "[23.5]\n"
     ]
    }
   ],
   "source": [
    "#inserting\n",
    "o=[12,1,45,78]\n",
    "t=[]\n",
    "o.insert(5,88)\n",
    "t.insert(0,23.5)\n",
    "print(o)\n",
    "print(t)\n"
   ]
  },
  {
   "cell_type": "code",
   "execution_count": 23,
   "id": "2b37b5ca",
   "metadata": {},
   "outputs": [
    {
     "name": "stdout",
     "output_type": "stream",
     "text": [
      "[]\n",
      "[1, 2, 3, 4, 5, 6]\n",
      "['Apple', 'Orange', 'Banana', 'Kiwi', 'Mango']\n",
      "[1, 2, 3, 4, 5, 6, 'Apple', 'Orange', 'Banana', 'Kiwi', 'Mango']\n",
      "0\n",
      "[3, 5, 7, 9, 11, 13]\n",
      "['a', 'b', 'c', 'G']\n",
      "[23.5]\n"
     ]
    }
   ],
   "source": [
    "#Displaying the List\n",
    "print(a)\n",
    "print(b)\n",
    "print(c)\n",
    "print(d)\n",
    "print(sum)\n",
    "print(s)\n",
    "print(p)\n",
    "print(t)\n",
    "\n",
    "\n",
    "\n",
    "\n"
   ]
  },
  {
   "cell_type": "code",
   "execution_count": 24,
   "id": "d8dc0a52",
   "metadata": {},
   "outputs": [
    {
     "name": "stdout",
     "output_type": "stream",
     "text": [
      "Original list is : [1, 2, 3, 4, 5, 6, 7]\n",
      "List index-value are : \n",
      "0 1\n",
      "1 2\n",
      "2 3\n",
      "3 4\n",
      "4 5\n",
      "5 6\n",
      "6 7\n"
     ]
    }
   ],
   "source": [
    "#Accessing Elements in Lists\n",
    "Q=[1,2,3,4,5,6,7]\n",
    "print(\"Original list is : \" + str(Q))\n",
    "print(\"List index-value are : \")\n",
    "for i in range(len(Q)):\n",
    "    print(i, end=\" \")\n",
    "    print(Q[i])"
   ]
  },
  {
   "cell_type": "code",
   "execution_count": 25,
   "id": "69ada996",
   "metadata": {},
   "outputs": [
    {
     "name": "stdout",
     "output_type": "stream",
     "text": [
      "Original list is : [1, 2, 3, 4, 5, 6, 7]\n",
      "List index-value are : \n",
      "[[0, 1], [1, 2], [2, 3], [3, 4], [4, 5], [5, 6], [6, 7]]\n"
     ]
    }
   ],
   "source": [
    "#Accessing Elements in Lists\n",
    "E=[1,2,3,4,5,6,7]\n",
    "print(\"Original list is : \" + str(E))\n",
    "print(\"List index-value are : \")\n",
    "print([list((i, E[i])) for i in range(len(E))])"
   ]
  },
  {
   "cell_type": "code",
   "execution_count": 26,
   "id": "9a66909c",
   "metadata": {},
   "outputs": [
    {
     "name": "stdout",
     "output_type": "stream",
     "text": [
      "['P', 'Y', 'T', 'H', 'O', 'N']\n",
      "At index 0: P\n",
      "At index 3: H\n"
     ]
    }
   ],
   "source": [
    "#Accessing elements\n",
    "programming_lang = ['P','Y','T','H','O','N']\n",
    "\n",
    "print(programming_lang)\n",
    "\n",
    "print(\"At index 0:\", programming_lang[0])\n",
    "print(\"At index 3:\",programming_lang[3])"
   ]
  },
  {
   "cell_type": "code",
   "execution_count": 28,
   "id": "7c5208d8",
   "metadata": {},
   "outputs": [
    {
     "name": "stdout",
     "output_type": "stream",
     "text": [
      "Length of the List: 6\n"
     ]
    }
   ],
   "source": [
    "#Length of List\n",
    "programming_lang = ['P','Y','T','H','O','N']\n",
    "print(\"Length of the List:\",len(programming_lang))"
   ]
  },
  {
   "cell_type": "code",
   "execution_count": 33,
   "id": "21f0bbbb",
   "metadata": {},
   "outputs": [
    {
     "name": "stdout",
     "output_type": "stream",
     "text": [
      "Lenth of the letter P is: 6\n"
     ]
    }
   ],
   "source": [
    "#Length of Particular item in list\n",
    "programming_lang = ['P','Y','T','H','O','N']\n",
    "print(\"Length of the letter P is:\",len(programming_lang))"
   ]
  },
  {
   "cell_type": "code",
   "execution_count": 39,
   "id": "5a8ceb2b",
   "metadata": {},
   "outputs": [
    {
     "name": "stdout",
     "output_type": "stream",
     "text": [
      "[1, 2, 3, 4, 5]\n",
      "[6, 7, 8, 9]\n",
      "[1, 2, 3, 4, 5]\n",
      "[1, 2, 3, 4, 5, 45, 78, 90]\n"
     ]
    }
   ],
   "source": [
    "#Assignment operator in list\n",
    "list1 = [1,2,3,4,5]\n",
    "list2 = [6,7,8,9]\n",
    "list3 = list1\n",
    "list4 = [1,2,3,4,5]\n",
    "list4 += [45,78,90]\n",
    "print(list1)\n",
    "print(list2)\n",
    "print(list3)\n",
    "print(list4)"
   ]
  },
  {
   "cell_type": "code",
   "execution_count": 41,
   "id": "dff9e626",
   "metadata": {},
   "outputs": [
    {
     "name": "stdout",
     "output_type": "stream",
     "text": [
      "apple\n",
      "banana\n",
      "cherry\n"
     ]
    }
   ],
   "source": [
    "a = [\"apple\", \"banana\", \"cherry\"]\n",
    "i = 0\n",
    "while i < len(a):\n",
    "  print(a[i])\n",
    "  i = i + 1"
   ]
  },
  {
   "cell_type": "code",
   "execution_count": null,
   "id": "ec6b6f89",
   "metadata": {},
   "outputs": [],
   "source": []
  }
 ],
 "metadata": {
  "kernelspec": {
   "display_name": "Python 3 (ipykernel)",
   "language": "python",
   "name": "python3"
  },
  "language_info": {
   "codemirror_mode": {
    "name": "ipython",
    "version": 3
   },
   "file_extension": ".py",
   "mimetype": "text/x-python",
   "name": "python",
   "nbconvert_exporter": "python",
   "pygments_lexer": "ipython3",
   "version": "3.9.13"
  }
 },
 "nbformat": 4,
 "nbformat_minor": 5
}
